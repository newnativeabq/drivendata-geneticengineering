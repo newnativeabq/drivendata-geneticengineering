{
 "cells": [
  {
   "cell_type": "code",
   "execution_count": 2,
   "metadata": {},
   "outputs": [
    {
     "data": {
      "text/plain": [
       "(63017, 63017)"
      ]
     },
     "execution_count": 2,
     "metadata": {},
     "output_type": "execute_result"
    }
   ],
   "source": [
    "import pandas as pd\n",
    "import numpy as np\n",
    "import os\n",
    "\n",
    "\n",
    "data_dir = os.path.join(os.getcwd(), 'data', 'files')\n",
    "\n",
    "def _make_path(subd, fname):\n",
    "    return os.path.join(subd, fname)\n",
    "\n",
    "tval = pd.read_csv(_make_path(data_dir, 'train_values.csv'), index_col='sequence_id')\n",
    "tlab = pd.read_csv(_make_path(data_dir, 'train_labels.csv'), index_col='sequence_id')\n",
    "\n",
    "len(tval), len(tlab)"
   ]
  },
  {
   "cell_type": "markdown",
   "metadata": {},
   "source": [
    "### Base Scores\n",
    "\n",
    "**Logistic Reg**: 0.39\n",
    "**Random Forest**: 0.44"
   ]
  },
  {
   "cell_type": "markdown",
   "metadata": {},
   "source": [
    "## Sequence Length\n",
    "\n",
    "Count number of bp in each sequence."
   ]
  },
  {
   "cell_type": "code",
   "execution_count": 4,
   "metadata": {},
   "outputs": [
    {
     "data": {
      "text/plain": [
       "count    63017.000000\n",
       "mean      4839.025501\n",
       "std       3883.148431\n",
       "min         20.000000\n",
       "25%        909.000000\n",
       "50%       4741.000000\n",
       "75%       7490.000000\n",
       "max      60099.000000\n",
       "Name: seq_length, dtype: float64"
      ]
     },
     "execution_count": 4,
     "metadata": {},
     "output_type": "execute_result"
    }
   ],
   "source": [
    "tval['seq_length'] = tval.sequence.str.len()\n",
    "tval.seq_length.describe()"
   ]
  },
  {
   "cell_type": "code",
   "execution_count": 5,
   "metadata": {},
   "outputs": [],
   "source": [
    "# Save\n",
    "tval.to_csv(_make_path(data_dir, 'train_values_mod.csv'))"
   ]
  },
  {
   "cell_type": "markdown",
   "metadata": {},
   "source": [
    "### Results\n",
    "\n",
    "**Random Forest**: 0.57\n",
    "\n",
    "Improvement of ~0.13% (no tuning)"
   ]
  },
  {
   "cell_type": "code",
   "execution_count": null,
   "metadata": {},
   "outputs": [],
   "source": []
  }
 ],
 "metadata": {
  "kernelspec": {
   "display_name": "Python 3",
   "language": "python",
   "name": "python3"
  },
  "language_info": {
   "codemirror_mode": {
    "name": "ipython",
    "version": 3
   },
   "file_extension": ".py",
   "mimetype": "text/x-python",
   "name": "python",
   "nbconvert_exporter": "python",
   "pygments_lexer": "ipython3",
   "version": "3.8.5"
  }
 },
 "nbformat": 4,
 "nbformat_minor": 4
}
