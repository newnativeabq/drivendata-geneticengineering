{
 "cells": [
  {
   "cell_type": "code",
   "execution_count": 25,
   "metadata": {},
   "outputs": [
    {
     "data": {
      "text/plain": [
       "(63017, 63017)"
      ]
     },
     "execution_count": 25,
     "metadata": {},
     "output_type": "execute_result"
    }
   ],
   "source": [
    "import pandas as pd\n",
    "import numpy as np\n",
    "import os\n",
    "\n",
    "\n",
    "data_dir = os.path.join(os.getcwd(), 'data', 'files')\n",
    "\n",
    "def _make_path(subd, fname):\n",
    "    return os.path.join(subd, fname)\n",
    "\n",
    "tval = pd.read_csv(_make_path(data_dir, 'train_values.csv'), index_col='sequence_id')\n",
    "tlab = pd.read_csv(_make_path(data_dir, 'train_labels.csv'), index_col='sequence_id')\n",
    "\n",
    "len(tval), len(tlab)"
   ]
  },
  {
   "cell_type": "markdown",
   "metadata": {},
   "source": [
    "### Base Scores\n",
    "\n",
    "**Logistic Reg**: 0.39\n",
    "**Random Forest**: 0.43"
   ]
  },
  {
   "cell_type": "markdown",
   "metadata": {},
   "source": [
    "## Sequence Length\n",
    "\n",
    "Count number of bp in each sequence."
   ]
  },
  {
   "cell_type": "code",
   "execution_count": 4,
   "metadata": {},
   "outputs": [
    {
     "data": {
      "text/plain": [
       "count    63017.000000\n",
       "mean      4839.025501\n",
       "std       3883.148431\n",
       "min         20.000000\n",
       "25%        909.000000\n",
       "50%       4741.000000\n",
       "75%       7490.000000\n",
       "max      60099.000000\n",
       "Name: seq_length, dtype: float64"
      ]
     },
     "execution_count": 4,
     "metadata": {},
     "output_type": "execute_result"
    }
   ],
   "source": [
    "tval['seq_length'] = tval.sequence.str.len()\n",
    "tval.seq_length.describe()"
   ]
  },
  {
   "cell_type": "code",
   "execution_count": 5,
   "metadata": {},
   "outputs": [],
   "source": [
    "# Save\n",
    "tval.to_csv(_make_path(data_dir, 'train_values_mod.csv'))"
   ]
  },
  {
   "cell_type": "markdown",
   "metadata": {},
   "source": [
    "### Results\n",
    "\n",
    "**Random Forest**: 0.57\n",
    "\n",
    "Improvement of ~0.13% (no tuning)"
   ]
  },
  {
   "cell_type": "markdown",
   "metadata": {},
   "source": [
    "## GC Concentration\n",
    "\n",
    "Proxy for binding affinity in the cell.  Could differ between engineering techniques."
   ]
  },
  {
   "cell_type": "code",
   "execution_count": 46,
   "metadata": {},
   "outputs": [],
   "source": [
    "import Bio\n",
    "from Bio.SeqRecord import SeqRecord\n",
    "from Bio.SeqUtils import GC\n",
    "\n",
    "import numpy as np\n",
    "\n",
    "gc = []\n",
    "\n",
    "# Calculate GC content for each sequence\n",
    "for i in range(len(tval)):\n",
    "    seq = tval.iloc[i].sequence\n",
    "    gc.append(GC(seq))\n",
    "    \n",
    "tval['gc'] = gc"
   ]
  },
  {
   "cell_type": "code",
   "execution_count": 51,
   "metadata": {},
   "outputs": [
    {
     "data": {
      "text/html": [
       "<div>\n",
       "<style scoped>\n",
       "    .dataframe tbody tr th:only-of-type {\n",
       "        vertical-align: middle;\n",
       "    }\n",
       "\n",
       "    .dataframe tbody tr th {\n",
       "        vertical-align: top;\n",
       "    }\n",
       "\n",
       "    .dataframe thead th {\n",
       "        text-align: right;\n",
       "    }\n",
       "</style>\n",
       "<table border=\"1\" class=\"dataframe\">\n",
       "  <thead>\n",
       "    <tr style=\"text-align: right;\">\n",
       "      <th></th>\n",
       "      <th>species_budding_yeast</th>\n",
       "      <th>species_fly</th>\n",
       "      <th>species_human</th>\n",
       "      <th>species_mouse</th>\n",
       "      <th>species_mustard_weed</th>\n",
       "      <th>species_nematode</th>\n",
       "      <th>species_other</th>\n",
       "      <th>species_rat</th>\n",
       "      <th>species_synthetic</th>\n",
       "      <th>species_zebrafish</th>\n",
       "      <th>gc</th>\n",
       "    </tr>\n",
       "    <tr>\n",
       "      <th>sequence_id</th>\n",
       "      <th></th>\n",
       "      <th></th>\n",
       "      <th></th>\n",
       "      <th></th>\n",
       "      <th></th>\n",
       "      <th></th>\n",
       "      <th></th>\n",
       "      <th></th>\n",
       "      <th></th>\n",
       "      <th></th>\n",
       "      <th></th>\n",
       "    </tr>\n",
       "  </thead>\n",
       "  <tbody>\n",
       "    <tr>\n",
       "      <th>9ZIMC</th>\n",
       "      <td>0.0</td>\n",
       "      <td>0.0</td>\n",
       "      <td>0.0</td>\n",
       "      <td>1.0</td>\n",
       "      <td>0.0</td>\n",
       "      <td>0.0</td>\n",
       "      <td>0.0</td>\n",
       "      <td>0.0</td>\n",
       "      <td>0.0</td>\n",
       "      <td>0.0</td>\n",
       "      <td>51.978744</td>\n",
       "    </tr>\n",
       "    <tr>\n",
       "      <th>5SAQC</th>\n",
       "      <td>0.0</td>\n",
       "      <td>0.0</td>\n",
       "      <td>0.0</td>\n",
       "      <td>1.0</td>\n",
       "      <td>0.0</td>\n",
       "      <td>0.0</td>\n",
       "      <td>0.0</td>\n",
       "      <td>0.0</td>\n",
       "      <td>0.0</td>\n",
       "      <td>0.0</td>\n",
       "      <td>49.342105</td>\n",
       "    </tr>\n",
       "    <tr>\n",
       "      <th>E7QRO</th>\n",
       "      <td>0.0</td>\n",
       "      <td>0.0</td>\n",
       "      <td>0.0</td>\n",
       "      <td>1.0</td>\n",
       "      <td>0.0</td>\n",
       "      <td>0.0</td>\n",
       "      <td>0.0</td>\n",
       "      <td>0.0</td>\n",
       "      <td>0.0</td>\n",
       "      <td>0.0</td>\n",
       "      <td>73.517241</td>\n",
       "    </tr>\n",
       "    <tr>\n",
       "      <th>CT5FP</th>\n",
       "      <td>0.0</td>\n",
       "      <td>0.0</td>\n",
       "      <td>0.0</td>\n",
       "      <td>1.0</td>\n",
       "      <td>0.0</td>\n",
       "      <td>0.0</td>\n",
       "      <td>0.0</td>\n",
       "      <td>0.0</td>\n",
       "      <td>0.0</td>\n",
       "      <td>0.0</td>\n",
       "      <td>53.391685</td>\n",
       "    </tr>\n",
       "    <tr>\n",
       "      <th>7PTD8</th>\n",
       "      <td>0.0</td>\n",
       "      <td>0.0</td>\n",
       "      <td>0.0</td>\n",
       "      <td>1.0</td>\n",
       "      <td>0.0</td>\n",
       "      <td>0.0</td>\n",
       "      <td>0.0</td>\n",
       "      <td>0.0</td>\n",
       "      <td>0.0</td>\n",
       "      <td>0.0</td>\n",
       "      <td>48.074074</td>\n",
       "    </tr>\n",
       "    <tr>\n",
       "      <th>...</th>\n",
       "      <td>...</td>\n",
       "      <td>...</td>\n",
       "      <td>...</td>\n",
       "      <td>...</td>\n",
       "      <td>...</td>\n",
       "      <td>...</td>\n",
       "      <td>...</td>\n",
       "      <td>...</td>\n",
       "      <td>...</td>\n",
       "      <td>...</td>\n",
       "      <td>...</td>\n",
       "    </tr>\n",
       "    <tr>\n",
       "      <th>BOQSD</th>\n",
       "      <td>0.0</td>\n",
       "      <td>0.0</td>\n",
       "      <td>1.0</td>\n",
       "      <td>0.0</td>\n",
       "      <td>0.0</td>\n",
       "      <td>0.0</td>\n",
       "      <td>0.0</td>\n",
       "      <td>0.0</td>\n",
       "      <td>0.0</td>\n",
       "      <td>0.0</td>\n",
       "      <td>53.622458</td>\n",
       "    </tr>\n",
       "    <tr>\n",
       "      <th>5XVVU</th>\n",
       "      <td>0.0</td>\n",
       "      <td>0.0</td>\n",
       "      <td>1.0</td>\n",
       "      <td>0.0</td>\n",
       "      <td>0.0</td>\n",
       "      <td>0.0</td>\n",
       "      <td>0.0</td>\n",
       "      <td>0.0</td>\n",
       "      <td>0.0</td>\n",
       "      <td>0.0</td>\n",
       "      <td>53.529213</td>\n",
       "    </tr>\n",
       "    <tr>\n",
       "      <th>CVGHF</th>\n",
       "      <td>0.0</td>\n",
       "      <td>0.0</td>\n",
       "      <td>1.0</td>\n",
       "      <td>0.0</td>\n",
       "      <td>0.0</td>\n",
       "      <td>0.0</td>\n",
       "      <td>0.0</td>\n",
       "      <td>0.0</td>\n",
       "      <td>0.0</td>\n",
       "      <td>0.0</td>\n",
       "      <td>56.858298</td>\n",
       "    </tr>\n",
       "    <tr>\n",
       "      <th>ZVT1A</th>\n",
       "      <td>0.0</td>\n",
       "      <td>0.0</td>\n",
       "      <td>1.0</td>\n",
       "      <td>0.0</td>\n",
       "      <td>0.0</td>\n",
       "      <td>0.0</td>\n",
       "      <td>0.0</td>\n",
       "      <td>0.0</td>\n",
       "      <td>0.0</td>\n",
       "      <td>0.0</td>\n",
       "      <td>56.813459</td>\n",
       "    </tr>\n",
       "    <tr>\n",
       "      <th>U5MR3</th>\n",
       "      <td>0.0</td>\n",
       "      <td>0.0</td>\n",
       "      <td>1.0</td>\n",
       "      <td>0.0</td>\n",
       "      <td>0.0</td>\n",
       "      <td>0.0</td>\n",
       "      <td>0.0</td>\n",
       "      <td>0.0</td>\n",
       "      <td>0.0</td>\n",
       "      <td>0.0</td>\n",
       "      <td>52.634389</td>\n",
       "    </tr>\n",
       "  </tbody>\n",
       "</table>\n",
       "<p>63017 rows × 11 columns</p>\n",
       "</div>"
      ],
      "text/plain": [
       "             species_budding_yeast  species_fly  species_human  species_mouse  \\\n",
       "sequence_id                                                                     \n",
       "9ZIMC                          0.0          0.0            0.0            1.0   \n",
       "5SAQC                          0.0          0.0            0.0            1.0   \n",
       "E7QRO                          0.0          0.0            0.0            1.0   \n",
       "CT5FP                          0.0          0.0            0.0            1.0   \n",
       "7PTD8                          0.0          0.0            0.0            1.0   \n",
       "...                            ...          ...            ...            ...   \n",
       "BOQSD                          0.0          0.0            1.0            0.0   \n",
       "5XVVU                          0.0          0.0            1.0            0.0   \n",
       "CVGHF                          0.0          0.0            1.0            0.0   \n",
       "ZVT1A                          0.0          0.0            1.0            0.0   \n",
       "U5MR3                          0.0          0.0            1.0            0.0   \n",
       "\n",
       "             species_mustard_weed  species_nematode  species_other  \\\n",
       "sequence_id                                                          \n",
       "9ZIMC                         0.0               0.0            0.0   \n",
       "5SAQC                         0.0               0.0            0.0   \n",
       "E7QRO                         0.0               0.0            0.0   \n",
       "CT5FP                         0.0               0.0            0.0   \n",
       "7PTD8                         0.0               0.0            0.0   \n",
       "...                           ...               ...            ...   \n",
       "BOQSD                         0.0               0.0            0.0   \n",
       "5XVVU                         0.0               0.0            0.0   \n",
       "CVGHF                         0.0               0.0            0.0   \n",
       "ZVT1A                         0.0               0.0            0.0   \n",
       "U5MR3                         0.0               0.0            0.0   \n",
       "\n",
       "             species_rat  species_synthetic  species_zebrafish         gc  \n",
       "sequence_id                                                                \n",
       "9ZIMC                0.0                0.0                0.0  51.978744  \n",
       "5SAQC                0.0                0.0                0.0  49.342105  \n",
       "E7QRO                0.0                0.0                0.0  73.517241  \n",
       "CT5FP                0.0                0.0                0.0  53.391685  \n",
       "7PTD8                0.0                0.0                0.0  48.074074  \n",
       "...                  ...                ...                ...        ...  \n",
       "BOQSD                0.0                0.0                0.0  53.622458  \n",
       "5XVVU                0.0                0.0                0.0  53.529213  \n",
       "CVGHF                0.0                0.0                0.0  56.858298  \n",
       "ZVT1A                0.0                0.0                0.0  56.813459  \n",
       "U5MR3                0.0                0.0                0.0  52.634389  \n",
       "\n",
       "[63017 rows x 11 columns]"
      ]
     },
     "execution_count": 51,
     "metadata": {},
     "output_type": "execute_result"
    }
   ],
   "source": [
    "# View Data\n",
    "keep = [col for col in tval.columns if 'species' in col]\n",
    "keep.append('gc')\n",
    "\n",
    "tval[keep]"
   ]
  },
  {
   "cell_type": "markdown",
   "metadata": {},
   "source": [
    "## Coding vs Noncoding\n",
    "\n",
    "Identifying coding region vs non-coding region.  The relationship between the two could yield insights into programmed regulatory complexity and may be a signature for lab maturity, excellence, ability."
   ]
  },
  {
   "cell_type": "code",
   "execution_count": 18,
   "metadata": {},
   "outputs": [
    {
     "data": {
      "text/plain": [
       "'1.78'"
      ]
     },
     "execution_count": 18,
     "metadata": {},
     "output_type": "execute_result"
    }
   ],
   "source": [
    "import Bio\n",
    "from Bio import SeqIO\n",
    "import os\n",
    "\n",
    "data_dir = os.path.join(os.getcwd(), 'data', 'files')\n",
    "\n",
    "species_dirs = [os.path.join(data_dir, d) for d in os.listdir(data_dir) if 'species' in d]\n",
    "species = ['_'.join(d.split('_')[1:]) for d in species_dirs]\n",
    "\n",
    "def _get_seqs(sdir):\n",
    "    return [\n",
    "        os.path.join(sdir, f) for f in os.listdir(sdir) if '.txt' in f\n",
    "    ]\n",
    "\n",
    "seqs = _get_seqs(species_dirs[0])\n",
    "\n",
    "Bio.__version__"
   ]
  },
  {
   "cell_type": "code",
   "execution_count": 23,
   "metadata": {},
   "outputs": [
    {
     "name": "stdout",
     "output_type": "stream",
     "text": [
      "03SLJ\n",
      "5154\n",
      "46.00310438494373\n"
     ]
    }
   ],
   "source": [
    "from Bio.SeqUtils import GC\n",
    "\n",
    "for s in SeqIO.parse(seqs[0], 'fasta'):\n",
    "    print(s.id)  # FASTA ID (sequence index from origin)\n",
    "#     print(s.seq)\n",
    "    print(len(s))  # Sequence Length\n",
    "    print(GC(s.seq)) #\n",
    "    "
   ]
  },
  {
   "cell_type": "markdown",
   "metadata": {},
   "source": [
    "### Considerations\n",
    "\n",
    "1. Biopython just needs a 'fasta' like file and can probably be adapted to read from a string io buffer.  This is much easier to pipeline.\n",
    "\n",
    "2.  Lots of cool features!!"
   ]
  },
  {
   "cell_type": "code",
   "execution_count": null,
   "metadata": {},
   "outputs": [],
   "source": []
  }
 ],
 "metadata": {
  "kernelspec": {
   "display_name": "Python 3",
   "language": "python",
   "name": "python3"
  },
  "language_info": {
   "codemirror_mode": {
    "name": "ipython",
    "version": 3
   },
   "file_extension": ".py",
   "mimetype": "text/x-python",
   "name": "python",
   "nbconvert_exporter": "python",
   "pygments_lexer": "ipython3",
   "version": "3.8.5"
  }
 },
 "nbformat": 4,
 "nbformat_minor": 4
}
