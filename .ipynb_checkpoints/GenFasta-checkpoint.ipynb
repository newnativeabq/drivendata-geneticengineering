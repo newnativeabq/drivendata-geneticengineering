{
 "cells": [
  {
   "cell_type": "markdown",
   "metadata": {},
   "source": [
    "# Generate Fasta Files \n",
    "\n",
    "Create fasta files for species pan genomics"
   ]
  },
  {
   "cell_type": "code",
   "execution_count": 1,
   "metadata": {},
   "outputs": [
    {
     "data": {
      "text/plain": [
       "(63017, 63017)"
      ]
     },
     "execution_count": 1,
     "metadata": {},
     "output_type": "execute_result"
    }
   ],
   "source": [
    "import pandas as pd\n",
    "import numpy as np\n",
    "import os\n",
    "\n",
    "\n",
    "data_dir = os.path.join(os.getcwd(), 'data', 'files')\n",
    "\n",
    "def _make_path(subd, fname):\n",
    "    return os.path.join(subd, fname)\n",
    "\n",
    "tval = pd.read_csv(_make_path(data_dir, 'train_values.csv'), index_col='sequence_id')\n",
    "tlab = pd.read_csv(_make_path(data_dir, 'train_labels.csv'), index_col='sequence_id')\n",
    "\n",
    "len(tval), len(tlab)"
   ]
  },
  {
   "cell_type": "code",
   "execution_count": 2,
   "metadata": {},
   "outputs": [
    {
     "data": {
      "text/plain": [
       "(['species_budding_yeast',\n",
       "  'species_fly',\n",
       "  'species_human',\n",
       "  'species_mouse',\n",
       "  'species_mustard_weed',\n",
       "  'species_nematode',\n",
       "  'species_other',\n",
       "  'species_rat',\n",
       "  'species_synthetic',\n",
       "  'species_zebrafish'],\n",
       " ['budding_yeast',\n",
       "  'fly',\n",
       "  'human',\n",
       "  'mouse',\n",
       "  'mustard_weed',\n",
       "  'nematode',\n",
       "  'other',\n",
       "  'rat',\n",
       "  'synthetic',\n",
       "  'zebrafish'])"
      ]
     },
     "execution_count": 2,
     "metadata": {},
     "output_type": "execute_result"
    }
   ],
   "source": [
    "species_cols = [col for col in tval.columns if 'species' in col]\n",
    "species_names = ['_'.join(col.split('_')[1:]) for col in species_cols]\n",
    "species_cols, species_names"
   ]
  },
  {
   "cell_type": "code",
   "execution_count": 30,
   "metadata": {},
   "outputs": [],
   "source": [
    "import os\n",
    "from io import StringIO\n",
    "\n",
    "\n",
    "def filter_species(data, species):\n",
    "    temp = data[data[species]==1]\n",
    "    return temp['sequence']\n",
    "\n",
    "\n",
    "def _make_path(*args):\n",
    "    return os.path.join(*args)\n",
    "\n",
    "\n",
    "def _split_lines(sequence):\n",
    "    s = [\"\\n\"+sequence[i:i + 80] for i in range(0, len(sequence), 80)]\n",
    "    return s\n",
    "\n",
    "\n",
    "def write_fasta(series, species, savedir):\n",
    "    tdict = series.to_dict()\n",
    "    for seqname in tdict:\n",
    "        save_path = _make_path(savedir, species)\n",
    "        fpath = _make_path(savedir, species, seqname)+'.txt'\n",
    "        sequence = tdict[seqname]\n",
    "        \n",
    "        if not os.path.isdir(save_path):\n",
    "            os.mkdir(save_path)\n",
    "            \n",
    "        with open(fpath, 'w+') as file:\n",
    "            file.write(f'>{seqname}')\n",
    "            file.writelines(_split_lines(sequence))\n",
    "            \n",
    "    return tdict"
   ]
  },
  {
   "cell_type": "code",
   "execution_count": 31,
   "metadata": {},
   "outputs": [
    {
     "name": "stdout",
     "output_type": "stream",
     "text": [
      "Breaking sequence of length: 1275\n",
      "Created list of 16 elements\n",
      "Breaking sequence of length: 790\n",
      "Created list of 10 elements\n",
      "Breaking sequence of length: 1283\n",
      "Created list of 17 elements\n",
      "Breaking sequence of length: 732\n",
      "Created list of 10 elements\n",
      "Breaking sequence of length: 2773\n",
      "Created list of 35 elements\n",
      "Breaking sequence of length: 598\n",
      "Created list of 8 elements\n",
      "Breaking sequence of length: 537\n",
      "Created list of 7 elements\n",
      "Breaking sequence of length: 829\n",
      "Created list of 11 elements\n",
      "Breaking sequence of length: 964\n",
      "Created list of 13 elements\n",
      "Breaking sequence of length: 800\n",
      "Created list of 10 elements\n"
     ]
    },
    {
     "data": {
      "text/plain": [
       "10"
      ]
     },
     "execution_count": 31,
     "metadata": {},
     "output_type": "execute_result"
    }
   ],
   "source": [
    "s = species_cols[0]\n",
    "ff = filter_species(tval, s)\n",
    "td = write_fasta(ff.iloc[0:10], s, data_dir)\n",
    "\n",
    "len(td)"
   ]
  },
  {
   "cell_type": "code",
   "execution_count": null,
   "metadata": {},
   "outputs": [],
   "source": []
  }
 ],
 "metadata": {
  "kernelspec": {
   "display_name": "Python 3",
   "language": "python",
   "name": "python3"
  },
  "language_info": {
   "codemirror_mode": {
    "name": "ipython",
    "version": 3
   },
   "file_extension": ".py",
   "mimetype": "text/x-python",
   "name": "python",
   "nbconvert_exporter": "python",
   "pygments_lexer": "ipython3",
   "version": "3.8.5"
  }
 },
 "nbformat": 4,
 "nbformat_minor": 4
}
