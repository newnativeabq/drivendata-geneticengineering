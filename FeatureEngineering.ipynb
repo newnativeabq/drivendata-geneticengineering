{
 "cells": [
  {
   "cell_type": "code",
   "execution_count": 73,
   "metadata": {},
   "outputs": [
    {
     "data": {
      "text/plain": [
       "(63017, 63017)"
      ]
     },
     "execution_count": 73,
     "metadata": {},
     "output_type": "execute_result"
    }
   ],
   "source": [
    "import pandas as pd\n",
    "import numpy as np\n",
    "import os\n",
    "\n",
    "\n",
    "data_dir = os.path.join(os.getcwd(), 'data', 'files')\n",
    "\n",
    "def _make_path(subd, fname):\n",
    "    return os.path.join(subd, fname)\n",
    "\n",
    "tval = pd.read_csv(_make_path(data_dir, 'train_values.csv'), index_col='sequence_id')\n",
    "tlab = pd.read_csv(_make_path(data_dir, 'train_labels.csv'), index_col='sequence_id')\n",
    "\n",
    "len(tval), len(tlab)"
   ]
  },
  {
   "cell_type": "markdown",
   "metadata": {},
   "source": [
    "### Base Scores\n",
    "\n",
    "**Logistic Reg**: 0.39\n",
    "**Random Forest**: 0.427"
   ]
  },
  {
   "cell_type": "markdown",
   "metadata": {},
   "source": [
    "## Sequence Length\n",
    "\n",
    "Count number of bp in each sequence."
   ]
  },
  {
   "cell_type": "code",
   "execution_count": 67,
   "metadata": {},
   "outputs": [
    {
     "data": {
      "text/plain": [
       "count    63017.000000\n",
       "mean      4839.025501\n",
       "std       3883.148431\n",
       "min         20.000000\n",
       "25%        909.000000\n",
       "50%       4741.000000\n",
       "75%       7490.000000\n",
       "max      60099.000000\n",
       "Name: seq_length, dtype: float64"
      ]
     },
     "execution_count": 67,
     "metadata": {},
     "output_type": "execute_result"
    }
   ],
   "source": [
    "tval['seq_length'] = tval.sequence.str.len()\n",
    "tval.seq_length.describe()"
   ]
  },
  {
   "cell_type": "code",
   "execution_count": 68,
   "metadata": {},
   "outputs": [],
   "source": [
    "# Save\n",
    "tval.to_csv(_make_path(data_dir, 'train_values_mod.csv'))"
   ]
  },
  {
   "cell_type": "markdown",
   "metadata": {},
   "source": [
    "### Results\n",
    "\n",
    "**Random Forest**: 0.565\n",
    "\n",
    "Improvement of 13% (no tuning)"
   ]
  },
  {
   "cell_type": "markdown",
   "metadata": {},
   "source": [
    "## GC Concentration\n",
    "\n",
    "Proxy for binding affinity in the cell.  Could differ between engineering techniques."
   ]
  },
  {
   "cell_type": "code",
   "execution_count": 74,
   "metadata": {},
   "outputs": [],
   "source": [
    "import Bio\n",
    "from Bio.SeqRecord import SeqRecord\n",
    "from Bio.SeqUtils import GC\n",
    "\n",
    "import numpy as np\n",
    "\n",
    "gc = []\n",
    "\n",
    "# Calculate GC content for each sequence\n",
    "for i in range(len(tval)):\n",
    "    seq = tval.iloc[i].sequence\n",
    "    gc.append(GC(seq))\n",
    "    \n",
    "tval['gc'] = gc"
   ]
  },
  {
   "cell_type": "code",
   "execution_count": 75,
   "metadata": {},
   "outputs": [],
   "source": [
    "# Scale data\n",
    "\n",
    "from sklearn.preprocessing import RobustScaler\n",
    "\n",
    "rsdata = tval['gc'].to_numpy().reshape(-1,1)\n",
    "\n",
    "t = RobustScaler().fit(X=rsdata)\n",
    "tval['gc'] = t.transform(rsdata).reshape(1,-1)[0]"
   ]
  },
  {
   "cell_type": "code",
   "execution_count": 71,
   "metadata": {},
   "outputs": [
    {
     "data": {
      "text/plain": [
       "<AxesSubplot:ylabel='Density'>"
      ]
     },
     "execution_count": 71,
     "metadata": {},
     "output_type": "execute_result"
    },
    {
     "data": {
      "image/png": "[encoded data removed]",
      "text/plain": [
       "<Figure size 432x288 with 1 Axes>"
      ]
     },
     "metadata": {
      "needs_background": "light"
     },
     "output_type": "display_data"
    }
   ],
   "source": [
    "# View Data\n",
    "keep = [col for col in tval.columns if 'species' in col]\n",
    "keep.append('gc')\n",
    "\n",
    "tval[keep].plot.kde()"
   ]
  },
  {
   "cell_type": "code",
   "execution_count": 76,
   "metadata": {},
   "outputs": [],
   "source": [
    "# Save\n",
    "tval.to_csv(_make_path(data_dir, 'train_values_mod.csv'))"
   ]
  },
  {
   "cell_type": "markdown",
   "metadata": {},
   "source": [
    "### Results\n",
    "\n",
    "**Random Forest**: 0.478\n",
    "\n",
    "Improvement of 5% no tuning.\n",
    "\n",
    "\n",
    "#### Combination with:\n",
    "\n",
    ">GC Concentration- **Random Forest**: 0.641\n",
    "\n"
   ]
  },
  {
   "cell_type": "markdown",
   "metadata": {},
   "source": [
    "## Coding vs Noncoding\n",
    "\n",
    "Identifying coding region vs non-coding region.  The relationship between the two could yield insights into programmed regulatory complexity and may be a signature for lab maturity, excellence, ability."
   ]
  },
  {
   "cell_type": "code",
   "execution_count": 18,
   "metadata": {},
   "outputs": [
    {
     "data": {
      "text/plain": [
       "'1.78'"
      ]
     },
     "execution_count": 18,
     "metadata": {},
     "output_type": "execute_result"
    }
   ],
   "source": [
    "import Bio\n",
    "from Bio import SeqIO\n",
    "import os\n",
    "\n",
    "data_dir = os.path.join(os.getcwd(), 'data', 'files')\n",
    "\n",
    "species_dirs = [os.path.join(data_dir, d) for d in os.listdir(data_dir) if 'species' in d]\n",
    "species = ['_'.join(d.split('_')[1:]) for d in species_dirs]\n",
    "\n",
    "def _get_seqs(sdir):\n",
    "    return [\n",
    "        os.path.join(sdir, f) for f in os.listdir(sdir) if '.txt' in f\n",
    "    ]\n",
    "\n",
    "seqs = _get_seqs(species_dirs[0])\n",
    "\n",
    "Bio.__version__"
   ]
  },
  {
   "cell_type": "code",
   "execution_count": 23,
   "metadata": {},
   "outputs": [
    {
     "name": "stdout",
     "output_type": "stream",
     "text": [
      "03SLJ\n",
      "5154\n",
      "46.00310438494373\n"
     ]
    }
   ],
   "source": [
    "from Bio.SeqUtils import GC\n",
    "\n",
    "for s in SeqIO.parse(seqs[0], 'fasta'):\n",
    "    print(s.id)  # FASTA ID (sequence index from origin)\n",
    "#     print(s.seq)\n",
    "    print(len(s))  # Sequence Length\n",
    "    print(GC(s.seq)) #\n",
    "    "
   ]
  },
  {
   "cell_type": "markdown",
   "metadata": {},
   "source": [
    "### Considerations\n",
    "\n",
    "1. Biopython just needs a 'fasta' like file and can probably be adapted to read from a string io buffer.  This is much easier to pipeline.\n",
    "\n",
    "2.  Lots of cool features!!"
   ]
  },
  {
   "cell_type": "code",
   "execution_count": null,
   "metadata": {},
   "outputs": [],
   "source": []
  }
 ],
 "metadata": {
  "kernelspec": {
   "display_name": "Python 3",
   "language": "python",
   "name": "python3"
  },
  "language_info": {
   "codemirror_mode": {
    "name": "ipython",
    "version": 3
   },
   "file_extension": ".py",
   "mimetype": "text/x-python",
   "name": "python",
   "nbconvert_exporter": "python",
   "pygments_lexer": "ipython3",
   "version": "3.8.5"
  }
 },
 "nbformat": 4,
 "nbformat_minor": 4
}
