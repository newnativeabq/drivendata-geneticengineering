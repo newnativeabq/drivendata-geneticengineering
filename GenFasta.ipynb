{
 "cells": [
  {
   "cell_type": "markdown",
   "metadata": {},
   "source": [
    "# Generate Fasta Files \n",
    "\n",
    "Create fasta files for species pan genomics"
   ]
  },
  {
   "cell_type": "code",
   "execution_count": 1,
   "metadata": {},
   "outputs": [
    {
     "data": {
      "text/plain": [
       "(63017, 63017)"
      ]
     },
     "execution_count": 1,
     "metadata": {},
     "output_type": "execute_result"
    }
   ],
   "source": [
    "import pandas as pd\n",
    "import numpy as np\n",
    "import os\n",
    "\n",
    "\n",
    "data_dir = os.path.join(os.getcwd(), 'data', 'files')\n",
    "\n",
    "def _make_path(subd, fname):\n",
    "    return os.path.join(subd, fname)\n",
    "\n",
    "tval = pd.read_csv(_make_path(data_dir, 'train_values.csv'), index_col='sequence_id')\n",
    "tlab = pd.read_csv(_make_path(data_dir, 'train_labels.csv'), index_col='sequence_id')\n",
    "\n",
    "len(tval), len(tlab)"
   ]
  },
  {
   "cell_type": "code",
   "execution_count": 2,
   "metadata": {},
   "outputs": [
    {
     "data": {
      "text/plain": [
       "(['species_budding_yeast',\n",
       "  'species_fly',\n",
       "  'species_human',\n",
       "  'species_mouse',\n",
       "  'species_mustard_weed',\n",
       "  'species_nematode',\n",
       "  'species_other',\n",
       "  'species_rat',\n",
       "  'species_synthetic',\n",
       "  'species_zebrafish'],\n",
       " ['budding_yeast',\n",
       "  'fly',\n",
       "  'human',\n",
       "  'mouse',\n",
       "  'mustard_weed',\n",
       "  'nematode',\n",
       "  'other',\n",
       "  'rat',\n",
       "  'synthetic',\n",
       "  'zebrafish'])"
      ]
     },
     "execution_count": 2,
     "metadata": {},
     "output_type": "execute_result"
    }
   ],
   "source": [
    "species_cols = [col for col in tval.columns if 'species' in col]\n",
    "species_names = ['_'.join(col.split('_')[1:]) for col in species_cols]\n",
    "species_cols, species_names"
   ]
  },
  {
   "cell_type": "code",
   "execution_count": 6,
   "metadata": {},
   "outputs": [],
   "source": [
    "import os\n",
    "from io import StringIO\n",
    "\n",
    "\n",
    "def filter_species(data, species):\n",
    "    temp = data[data[species]==1]\n",
    "    return temp['sequence']\n",
    "\n",
    "\n",
    "def _make_path(*args):\n",
    "    return os.path.join(*args)\n",
    "\n",
    "\n",
    "def _split_lines(sequence):\n",
    "    s = [\"\\n\"+sequence[i:i + 80] for i in range(0, len(sequence), 80)]\n",
    "    return s\n",
    "\n",
    "\n",
    "def write_fasta(series, species, savedir):\n",
    "    tdict = series.to_dict()\n",
    "    for seqname in tdict:\n",
    "        save_path = _make_path(savedir, species)\n",
    "        fpath = _make_path(savedir, species, seqname)+'.txt'\n",
    "        sequence = tdict[seqname]\n",
    "        \n",
    "        if not os.path.isdir(save_path):\n",
    "            os.mkdir(save_path)\n",
    "            \n",
    "        with open(fpath, 'w+') as file:\n",
    "            file.write(f'>{seqname}')\n",
    "            file.writelines(_split_lines(sequence))"
   ]
  },
  {
   "cell_type": "code",
   "execution_count": 34,
   "metadata": {},
   "outputs": [],
   "source": [
    "s = species_cols[0]\n",
    "for s in species_cols:\n",
    "    ff = filter_species(tval, s)\n",
    "    write_fasta(ff, s, data_dir)"
   ]
  },
  {
   "cell_type": "markdown",
   "metadata": {},
   "source": [
    "## Build genomefile from directory\n",
    "\n",
    "Create genomefile, a list of full paths of FASTA format text files."
   ]
  },
  {
   "cell_type": "code",
   "execution_count": 1,
   "metadata": {},
   "outputs": [],
   "source": [
    "import os\n",
    "\n",
    "\n",
    "data_dir = os.path.join(os.getcwd(), 'data', 'files')\n",
    "\n",
    "species = ['budding_yeast',\n",
    "  'fly',\n",
    "  'human',\n",
    "  'mouse',\n",
    "  'mustard_weed',\n",
    "  'nematode',\n",
    "  'other',\n",
    "  'rat',\n",
    "  'synthetic',\n",
    "  'zebrafish']"
   ]
  },
  {
   "cell_type": "code",
   "execution_count": 7,
   "metadata": {},
   "outputs": [],
   "source": [
    "s = species[0]\n",
    "spec_dir = os.path.join(data_dir, 'species_'+s)\n",
    "\n",
    "genomefile_path = os.path.join(spec_dir, 'genome_list.txt')\n",
    "\n",
    "with open(genomefile_path, 'w+') as file:\n",
    "    for fname in os.listdir(spec_dir):\n",
    "        file.write(_make_path(spec_dir, fname) + \"\\n\")"
   ]
  },
  {
   "cell_type": "code",
   "execution_count": 5,
   "metadata": {},
   "outputs": [
    {
     "data": {
      "text/plain": [
       "'/mnt/c/Users/vince/Bin/ddata_geneatt/data/files/species_budding_yeast/genome_list.txt'"
      ]
     },
     "execution_count": 5,
     "metadata": {},
     "output_type": "execute_result"
    }
   ],
   "source": [
    "genomefile_path"
   ]
  },
  {
   "cell_type": "code",
   "execution_count": null,
   "metadata": {},
   "outputs": [],
   "source": []
  }
 ],
 "metadata": {
  "kernelspec": {
   "display_name": "Python 3",
   "language": "python",
   "name": "python3"
  },
  "language_info": {
   "codemirror_mode": {
    "name": "ipython",
    "version": 3
   },
   "file_extension": ".py",
   "mimetype": "text/x-python",
   "name": "python",
   "nbconvert_exporter": "python",
   "pygments_lexer": "ipython3",
   "version": "3.6.11"
  }
 },
 "nbformat": 4,
 "nbformat_minor": 4
}
