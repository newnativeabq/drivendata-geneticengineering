{
 "cells": [
  {
   "cell_type": "markdown",
   "metadata": {},
   "source": [
    "# Neural Net Development\n",
    "\n",
    "Testing different architectures and data preparation"
   ]
  },
  {
   "cell_type": "code",
   "execution_count": 1,
   "metadata": {},
   "outputs": [
    {
     "data": {
      "text/plain": [
       "(63017, 63017)"
      ]
     },
     "execution_count": 1,
     "metadata": {},
     "output_type": "execute_result"
    }
   ],
   "source": [
    "# Load Data\n",
    "\n",
    "import pandas as pd\n",
    "import os\n",
    "\n",
    "\n",
    "data_dir = os.path.join(os.getcwd(), 'data', 'files')\n",
    "\n",
    "os.listdir(data_dir)\n",
    "\n",
    "def _make_path(subd, fname):\n",
    "    return os.path.join(subd, fname)\n",
    "\n",
    "tval = pd.read_csv(_make_path(data_dir, 'train_values_mod.csv'), index_col='sequence_id')\n",
    "tlab = pd.read_csv(_make_path(data_dir, 'train_labels.csv'), index_col='sequence_id')\n",
    "\n",
    "len(tval), len(tlab)"
   ]
  },
  {
   "cell_type": "code",
   "execution_count": 2,
   "metadata": {},
   "outputs": [
    {
     "data": {
      "text/plain": [
       "((63017, 41), (63017, 1314))"
      ]
     },
     "execution_count": 2,
     "metadata": {},
     "output_type": "execute_result"
    }
   ],
   "source": [
    "tval.shape, tlab.shape"
   ]
  },
  {
   "cell_type": "code",
   "execution_count": 3,
   "metadata": {},
   "outputs": [
    {
     "name": "stdout",
     "output_type": "stream",
     "text": [
      "Net(\n",
      "  (fc1): Linear(in_features=40, out_features=40, bias=True)\n",
      "  (fc2): Linear(in_features=40, out_features=1314, bias=True)\n",
      ")\n"
     ]
    }
   ],
   "source": [
    "import torch\n",
    "import torch.nn as nn\n",
    "import torch.nn.functional as F\n",
    "\n",
    "\n",
    "\n",
    "class Net(nn.Module):\n",
    "    \n",
    "    def __init__(self):\n",
    "        super(Net, self).__init__()\n",
    "        self.fc1 = nn.Linear(40, 40)\n",
    "        self.fc2 = nn.Linear(40, 1314)\n",
    "        \n",
    "    def forward(self, x):\n",
    "        x = F.relu(self.fc1(x))\n",
    "        x = self.fc2(x)\n",
    "        return x\n",
    "    \n",
    "net = Net().float()\n",
    "print(net)"
   ]
  },
  {
   "cell_type": "code",
   "execution_count": 4,
   "metadata": {},
   "outputs": [
    {
     "data": {
      "text/plain": [
       "tensor([0.0000, 0.0000, 1.0000, 0.0000, 0.0000, 1.0000, 0.0000, 0.0000, 0.0000,\n",
       "        0.0000, 1.0000, 0.0000, 0.0000, 0.0000, 0.0000, 0.0000, 0.0000, 1.0000,\n",
       "        0.0000, 0.0000, 0.0000, 0.0000, 0.0000, 0.0000, 0.0000, 0.0000, 0.0000,\n",
       "        0.0000, 0.0000, 0.0000, 0.0000, 0.0000, 1.0000, 0.0000, 0.0000, 0.0000,\n",
       "        0.0000, 0.0000, 0.0000, 0.1430], dtype=torch.float64)"
      ]
     },
     "execution_count": 4,
     "metadata": {},
     "output_type": "execute_result"
    }
   ],
   "source": [
    "# Transform row to tensor\n",
    "\n",
    "tin = tval.iloc[0].to_numpy()[1:].astype(float)\n",
    "tin = torch.tensor(tin)\n",
    "tin"
   ]
  },
  {
   "cell_type": "code",
   "execution_count": 8,
   "metadata": {},
   "outputs": [],
   "source": [
    "out = net(tin.float())\n",
    "net.zero_grad()"
   ]
  },
  {
   "cell_type": "code",
   "execution_count": 9,
   "metadata": {},
   "outputs": [
    {
     "name": "stdout",
     "output_type": "stream",
     "text": [
      "tensor(0.0181, grad_fn=<MseLossBackward>)\n"
     ]
    }
   ],
   "source": [
    "target = tlab.iloc[0].to_numpy().astype(float)\n",
    "target = torch.tensor(target)\n",
    "\n",
    "criterion = nn.MSELoss()\n",
    "loss = criterion(out, target.float())\n",
    "print(loss)"
   ]
  },
  {
   "cell_type": "code",
   "execution_count": 10,
   "metadata": {},
   "outputs": [
    {
     "name": "stdout",
     "output_type": "stream",
     "text": [
      "conv1.bias.grad before backward\n",
      "tensor([0., 0., 0., 0., 0., 0., 0., 0., 0., 0., 0., 0., 0., 0., 0., 0., 0., 0., 0., 0., 0., 0., 0., 0.,\n",
      "        0., 0., 0., 0., 0., 0., 0., 0., 0., 0., 0., 0., 0., 0., 0., 0.])\n",
      "conv1.bias.grad after backward\n",
      "tensor([ 4.0772e-03,  7.4912e-04,  3.1753e-03, -3.0667e-04,  3.4298e-03,\n",
      "         2.7183e-03,  0.0000e+00,  6.3269e-04,  0.0000e+00,  5.0364e-03,\n",
      "         0.0000e+00,  4.6047e-06,  0.0000e+00,  2.7798e-03,  1.3285e-03,\n",
      "         4.9879e-03,  1.9311e-04,  2.5994e-03,  0.0000e+00,  0.0000e+00,\n",
      "         5.4607e-03,  0.0000e+00,  6.0945e-03,  6.1537e-03,  3.9321e-04,\n",
      "         2.7604e-04,  0.0000e+00,  0.0000e+00,  4.9813e-04,  0.0000e+00,\n",
      "        -7.7182e-04,  5.3456e-03,  2.2520e-04,  0.0000e+00,  0.0000e+00,\n",
      "         0.0000e+00,  0.0000e+00,  7.8257e-03,  1.5520e-03,  0.0000e+00])\n"
     ]
    }
   ],
   "source": [
    "net.zero_grad()\n",
    "\n",
    "print('conv1.bias.grad before backward')\n",
    "print(net.fc1.bias.grad)\n",
    "\n",
    "loss.backward()\n",
    "\n",
    "print('conv1.bias.grad after backward')\n",
    "print(net.fc1.bias.grad)"
   ]
  },
  {
   "cell_type": "code",
   "execution_count": 14,
   "metadata": {},
   "outputs": [
    {
     "name": "stdout",
     "output_type": "stream",
     "text": [
      "tensor(0.0181, grad_fn=<MseLossBackward>)\n"
     ]
    }
   ],
   "source": [
    "import torch.optim as optim\n",
    "\n",
    "optimizer = optim.SGD(net.parameters(), lr=0.01)\n",
    "\n",
    "def train_one(x, y, net, criterion):\n",
    "    optimizer.zero_grad()\n",
    "    output = net(x)\n",
    "    loss = criterion(output, y)\n",
    "    loss.backward()\n",
    "    optimizer.step()\n",
    "    print(loss)\n",
    "\n",
    "train_one(tin.float(), target.float(), net, criterion)"
   ]
  },
  {
   "cell_type": "code",
   "execution_count": 15,
   "metadata": {},
   "outputs": [
    {
     "name": "stdout",
     "output_type": "stream",
     "text": [
      "tensor(0.0181, grad_fn=<MseLossBackward>)\n",
      "tensor(0.0181, grad_fn=<MseLossBackward>)\n",
      "tensor(0.0180, grad_fn=<MseLossBackward>)\n",
      "tensor(0.0180, grad_fn=<MseLossBackward>)\n",
      "tensor(0.0180, grad_fn=<MseLossBackward>)\n",
      "tensor(0.0180, grad_fn=<MseLossBackward>)\n",
      "tensor(0.0180, grad_fn=<MseLossBackward>)\n",
      "tensor(0.0179, grad_fn=<MseLossBackward>)\n",
      "tensor(0.0179, grad_fn=<MseLossBackward>)\n",
      "tensor(0.0179, grad_fn=<MseLossBackward>)\n"
     ]
    }
   ],
   "source": [
    "for _ in range(10):\n",
    "    train_one(tin.float(), target.float(), net, criterion)"
   ]
  }
 ],
 "metadata": {
  "kernelspec": {
   "display_name": "Python 3",
   "language": "python",
   "name": "python3"
  },
  "language_info": {
   "codemirror_mode": {
    "name": "ipython",
    "version": 3
   },
   "file_extension": ".py",
   "mimetype": "text/x-python",
   "name": "python",
   "nbconvert_exporter": "python",
   "pygments_lexer": "ipython3",
   "version": "3.8.5"
  }
 },
 "nbformat": 4,
 "nbformat_minor": 4
}
